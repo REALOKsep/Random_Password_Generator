{
 "cells": [
  {
   "cell_type": "code",
   "execution_count": 57,
   "id": "cf60909f",
   "metadata": {},
   "outputs": [
    {
     "name": "stdout",
     "output_type": "stream",
     "text": [
      "Random password generator\n",
      "19 $ 9 J % 97"
     ]
    }
   ],
   "source": [
    "import random\n",
    "\n",
    "print(\"Random password generator\")\n",
    "\n",
    "npart1 =random.randint(10,99)\n",
    "\n",
    "cpart1 =chr(random.randint(35,38))\n",
    "\n",
    "cpart2 =random.randint(1,9)\n",
    "\n",
    "cpart3 =chr(random.randint(65,90))\n",
    "\n",
    "cpart4 =chr(random.randint(35,38))\n",
    "\n",
    "npart2 =random.randint(10,99)\n",
    "\n",
    "print(npart1,cpart1,cpart2,cpart3,cpart4,npart2,end='')"
   ]
  },
  {
   "cell_type": "code",
   "execution_count": null,
   "id": "3502365f",
   "metadata": {},
   "outputs": [],
   "source": []
  }
 ],
 "metadata": {
  "kernelspec": {
   "display_name": "Python 3 (ipykernel)",
   "language": "python",
   "name": "python3"
  },
  "language_info": {
   "codemirror_mode": {
    "name": "ipython",
    "version": 3
   },
   "file_extension": ".py",
   "mimetype": "text/x-python",
   "name": "python",
   "nbconvert_exporter": "python",
   "pygments_lexer": "ipython3",
   "version": "3.11.3"
  }
 },
 "nbformat": 4,
 "nbformat_minor": 5
}
